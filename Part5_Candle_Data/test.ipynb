{
 "cells": [
  {
   "cell_type": "code",
   "execution_count": null,
   "metadata": {},
   "outputs": [],
   "source": [
    "import json\n",
    "API_CREDS_FILE = 'D:/OneDrive/Studies/forex_python/api_creds.json'\n",
    "\n",
    "# Load API credentials\n",
    "with open(API_CREDS_FILE) as json_file:\n",
    "    apicreds = json.load(json_file)\n",
    "\n",
    "class defs():\n",
    "    API_KEY = apicreds['API_KEY']\n",
    "    ACCOUNT_ID = apicreds['ACCOUNT_ID']\n",
    "    OANDA_URL = apicreds['OANDA_URL']\n",
    "\n",
    "    SECURE_HEADER = {\n",
    "        'Authorization': f'Bearer {API_KEY}'\n",
    "}"
   ]
  },
  {
   "cell_type": "code",
   "execution_count": 1,
   "metadata": {},
   "outputs": [],
   "source": [
    "import requests"
   ]
  },
  {
   "cell_type": "code",
   "execution_count": 2,
   "metadata": {},
   "outputs": [],
   "source": [
    "session = requests.Session()"
   ]
  },
  {
   "cell_type": "code",
   "execution_count": 3,
   "metadata": {},
   "outputs": [],
   "source": [
    "instrument = \"EUR_USD\"\n",
    "count = 10\n",
    "granularity = \"H1\""
   ]
  },
  {
   "cell_type": "code",
   "execution_count": 4,
   "metadata": {},
   "outputs": [],
   "source": [
    "url = f\"{defs.OANDA_URL}/instruments/{instrument}/candles\""
   ]
  },
  {
   "cell_type": "code",
   "execution_count": 5,
   "metadata": {},
   "outputs": [
    {
     "data": {
      "text/plain": [
       "'https://api-fxpractice.oanda.com/v3/instruments/EUR_USD/candles'"
      ]
     },
     "execution_count": 5,
     "metadata": {},
     "output_type": "execute_result"
    }
   ],
   "source": [
    "url"
   ]
  },
  {
   "cell_type": "code",
   "execution_count": 6,
   "metadata": {},
   "outputs": [],
   "source": [
    "params = dict(\n",
    "    count = count,\n",
    "    granularity = granularity,\n",
    "    price = \"MBA\"\n",
    ")"
   ]
  },
  {
   "cell_type": "code",
   "execution_count": 7,
   "metadata": {},
   "outputs": [
    {
     "data": {
      "text/plain": [
       "{'count': 10, 'granularity': 'H1', 'price': 'MBA'}"
      ]
     },
     "execution_count": 7,
     "metadata": {},
     "output_type": "execute_result"
    }
   ],
   "source": [
    "params"
   ]
  },
  {
   "cell_type": "code",
   "execution_count": 8,
   "metadata": {},
   "outputs": [],
   "source": [
    "response = session.get(url, params=params, headers=defs.SECURE_HEADER)"
   ]
  },
  {
   "cell_type": "code",
   "execution_count": 9,
   "metadata": {},
   "outputs": [
    {
     "data": {
      "text/plain": [
       "200"
      ]
     },
     "execution_count": 9,
     "metadata": {},
     "output_type": "execute_result"
    }
   ],
   "source": [
    "response.status_code"
   ]
  },
  {
   "cell_type": "code",
   "execution_count": 10,
   "metadata": {},
   "outputs": [
    {
     "data": {
      "text/plain": [
       "{'instrument': 'EUR_USD',\n",
       " 'granularity': 'H1',\n",
       " 'candles': [{'complete': True,\n",
       "   'volume': 2792,\n",
       "   'time': '2024-02-02T12:00:00.000000000Z',\n",
       "   'bid': {'o': '1.08831', 'h': '1.08844', 'l': '1.08769', 'c': '1.08797'},\n",
       "   'mid': {'o': '1.08838', 'h': '1.08852', 'l': '1.08776', 'c': '1.08804'},\n",
       "   'ask': {'o': '1.08845', 'h': '1.08859', 'l': '1.08784', 'c': '1.08811'}},\n",
       "  {'complete': True,\n",
       "   'volume': 11299,\n",
       "   'time': '2024-02-02T13:00:00.000000000Z',\n",
       "   'bid': {'o': '1.08800', 'h': '1.08854', 'l': '1.08031', 'c': '1.08064'},\n",
       "   'mid': {'o': '1.08807', 'h': '1.08861', 'l': '1.08038', 'c': '1.08072'},\n",
       "   'ask': {'o': '1.08814', 'h': '1.08868', 'l': '1.08045', 'c': '1.08079'}},\n",
       "  {'complete': True,\n",
       "   'volume': 11472,\n",
       "   'time': '2024-02-02T14:00:00.000000000Z',\n",
       "   'bid': {'o': '1.08067', 'h': '1.08163', 'l': '1.07908', 'c': '1.08078'},\n",
       "   'mid': {'o': '1.08074', 'h': '1.08170', 'l': '1.07916', 'c': '1.08089'},\n",
       "   'ask': {'o': '1.08081', 'h': '1.08178', 'l': '1.07923', 'c': '1.08100'}},\n",
       "  {'complete': True,\n",
       "   'volume': 10559,\n",
       "   'time': '2024-02-02T15:00:00.000000000Z',\n",
       "   'bid': {'o': '1.08070', 'h': '1.08106', 'l': '1.07824', 'c': '1.08017'},\n",
       "   'mid': {'o': '1.08078', 'h': '1.08113', 'l': '1.07831', 'c': '1.08024'},\n",
       "   'ask': {'o': '1.08085', 'h': '1.08124', 'l': '1.07838', 'c': '1.08031'}},\n",
       "  {'complete': True,\n",
       "   'volume': 6530,\n",
       "   'time': '2024-02-02T16:00:00.000000000Z',\n",
       "   'bid': {'o': '1.08019', 'h': '1.08031', 'l': '1.07817', 'c': '1.07854'},\n",
       "   'mid': {'o': '1.08026', 'h': '1.08038', 'l': '1.07824', 'c': '1.07862'},\n",
       "   'ask': {'o': '1.08033', 'h': '1.08045', 'l': '1.07831', 'c': '1.07869'}},\n",
       "  {'complete': True,\n",
       "   'volume': 5032,\n",
       "   'time': '2024-02-02T17:00:00.000000000Z',\n",
       "   'bid': {'o': '1.07855', 'h': '1.07919', 'l': '1.07800', 'c': '1.07827'},\n",
       "   'mid': {'o': '1.07863', 'h': '1.07926', 'l': '1.07808', 'c': '1.07834'},\n",
       "   'ask': {'o': '1.07871', 'h': '1.07933', 'l': '1.07815', 'c': '1.07842'}},\n",
       "  {'complete': True,\n",
       "   'volume': 4502,\n",
       "   'time': '2024-02-02T18:00:00.000000000Z',\n",
       "   'bid': {'o': '1.07828', 'h': '1.07905', 'l': '1.07797', 'c': '1.07875'},\n",
       "   'mid': {'o': '1.07836', 'h': '1.07912', 'l': '1.07805', 'c': '1.07883'},\n",
       "   'ask': {'o': '1.07844', 'h': '1.07920', 'l': '1.07813', 'c': '1.07891'}},\n",
       "  {'complete': True,\n",
       "   'volume': 3232,\n",
       "   'time': '2024-02-02T19:00:00.000000000Z',\n",
       "   'bid': {'o': '1.07874', 'h': '1.07952', 'l': '1.07854', 'c': '1.07918'},\n",
       "   'mid': {'o': '1.07882', 'h': '1.07959', 'l': '1.07862', 'c': '1.07926'},\n",
       "   'ask': {'o': '1.07889', 'h': '1.07966', 'l': '1.07869', 'c': '1.07934'}},\n",
       "  {'complete': True,\n",
       "   'volume': 2937,\n",
       "   'time': '2024-02-02T20:00:00.000000000Z',\n",
       "   'bid': {'o': '1.07919', 'h': '1.07967', 'l': '1.07913', 'c': '1.07925'},\n",
       "   'mid': {'o': '1.07926', 'h': '1.07974', 'l': '1.07920', 'c': '1.07932'},\n",
       "   'ask': {'o': '1.07933', 'h': '1.07982', 'l': '1.07928', 'c': '1.07939'}},\n",
       "  {'complete': True,\n",
       "   'volume': 1975,\n",
       "   'time': '2024-02-02T21:00:00.000000000Z',\n",
       "   'bid': {'o': '1.07924', 'h': '1.07934', 'l': '1.07819', 'c': '1.07844'},\n",
       "   'mid': {'o': '1.07932', 'h': '1.07942', 'l': '1.07854', 'c': '1.07870'},\n",
       "   'ask': {'o': '1.07939', 'h': '1.07950', 'l': '1.07874', 'c': '1.07897'}}]}"
      ]
     },
     "execution_count": 10,
     "metadata": {},
     "output_type": "execute_result"
    }
   ],
   "source": [
    "response.json()"
   ]
  },
  {
   "cell_type": "code",
   "execution_count": null,
   "metadata": {},
   "outputs": [],
   "source": []
  },
  {
   "cell_type": "code",
   "execution_count": null,
   "metadata": {},
   "outputs": [],
   "source": []
  },
  {
   "cell_type": "code",
   "execution_count": null,
   "metadata": {},
   "outputs": [],
   "source": []
  },
  {
   "cell_type": "code",
   "execution_count": null,
   "metadata": {},
   "outputs": [],
   "source": []
  }
 ],
 "metadata": {
  "kernelspec": {
   "display_name": "Python 3",
   "language": "python",
   "name": "python3"
  },
  "language_info": {
   "codemirror_mode": {
    "name": "ipython",
    "version": 3
   },
   "file_extension": ".py",
   "mimetype": "text/x-python",
   "name": "python",
   "nbconvert_exporter": "python",
   "pygments_lexer": "ipython3",
   "version": "3.10.13"
  },
  "orig_nbformat": 2
 },
 "nbformat": 4,
 "nbformat_minor": 2
}
