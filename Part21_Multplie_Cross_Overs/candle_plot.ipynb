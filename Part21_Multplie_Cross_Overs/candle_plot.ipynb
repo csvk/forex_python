{
 "cells": [
  {
   "cell_type": "code",
   "execution_count": 1,
   "metadata": {},
   "outputs": [],
   "source": [
    "import pandas as pd\n",
    "import utils\n",
    "import plotly.graph_objects as go\n",
    "import instrument"
   ]
  },
  {
   "cell_type": "code",
   "execution_count": 2,
   "metadata": {},
   "outputs": [
    {
     "name": "stdout",
     "output_type": "stream",
     "text": [
      "d:\\OneDrive\\Studies\\forex_python\\Part21_Multplie_Cross_Overs\n"
     ]
    }
   ],
   "source": [
    "import os\n",
    "print(os.getcwd())"
   ]
  },
  {
   "cell_type": "code",
   "execution_count": 3,
   "metadata": {},
   "outputs": [],
   "source": [
    "pair = \"EUR_USD\"\n",
    "granularity = \"H1\"\n",
    "ma_list = [16,64]\n",
    "i_pair = instrument.Instrument.get_instrument_by_name(\"EUR_USD\")"
   ]
  },
  {
   "cell_type": "code",
   "execution_count": 4,
   "metadata": {},
   "outputs": [],
   "source": [
    "df = pd.read_pickle(utils.get_his_data_filename(pair, granularity))\n",
    "non_cols = ['time', 'volume']\n",
    "mod_cols = [x for x in df.columns if x not in non_cols]\n",
    "df[mod_cols] = df[mod_cols].apply(pd.to_numeric)"
   ]
  },
  {
   "cell_type": "code",
   "execution_count": 5,
   "metadata": {},
   "outputs": [],
   "source": [
    "df_ma = df[['time', 'mid_o', 'mid_h', 'mid_l', 'mid_c']].copy()\n",
    "for ma in ma_list:  \n",
    "    df_ma[f'MA_{ma}'] = df_ma.mid_c.rolling(window=ma).mean()\n",
    "df_ma.dropna(inplace=True)\n",
    "df_ma.reset_index(drop=True, inplace=True)"
   ]
  },
  {
   "cell_type": "code",
   "execution_count": 6,
   "metadata": {},
   "outputs": [
    {
     "data": {
      "text/html": [
       "<div>\n",
       "<style scoped>\n",
       "    .dataframe tbody tr th:only-of-type {\n",
       "        vertical-align: middle;\n",
       "    }\n",
       "\n",
       "    .dataframe tbody tr th {\n",
       "        vertical-align: top;\n",
       "    }\n",
       "\n",
       "    .dataframe thead th {\n",
       "        text-align: right;\n",
       "    }\n",
       "</style>\n",
       "<table border=\"1\" class=\"dataframe\">\n",
       "  <thead>\n",
       "    <tr style=\"text-align: right;\">\n",
       "      <th></th>\n",
       "      <th>time</th>\n",
       "      <th>mid_o</th>\n",
       "      <th>mid_h</th>\n",
       "      <th>mid_l</th>\n",
       "      <th>mid_c</th>\n",
       "      <th>MA_16</th>\n",
       "      <th>MA_64</th>\n",
       "    </tr>\n",
       "  </thead>\n",
       "  <tbody>\n",
       "    <tr>\n",
       "      <th>0</th>\n",
       "      <td>2023-06-15T21:00:00.000000000Z</td>\n",
       "      <td>1.09444</td>\n",
       "      <td>1.09456</td>\n",
       "      <td>1.09422</td>\n",
       "      <td>1.09430</td>\n",
       "      <td>1.089117</td>\n",
       "      <td>1.083028</td>\n",
       "    </tr>\n",
       "    <tr>\n",
       "      <th>1</th>\n",
       "      <td>2023-06-15T22:00:00.000000000Z</td>\n",
       "      <td>1.09439</td>\n",
       "      <td>1.09496</td>\n",
       "      <td>1.09439</td>\n",
       "      <td>1.09491</td>\n",
       "      <td>1.089982</td>\n",
       "      <td>1.083272</td>\n",
       "    </tr>\n",
       "    <tr>\n",
       "      <th>2</th>\n",
       "      <td>2023-06-15T23:00:00.000000000Z</td>\n",
       "      <td>1.09494</td>\n",
       "      <td>1.09514</td>\n",
       "      <td>1.09452</td>\n",
       "      <td>1.09455</td>\n",
       "      <td>1.090723</td>\n",
       "      <td>1.083500</td>\n",
       "    </tr>\n",
       "    <tr>\n",
       "      <th>3</th>\n",
       "      <td>2023-06-16T00:00:00.000000000Z</td>\n",
       "      <td>1.09456</td>\n",
       "      <td>1.09508</td>\n",
       "      <td>1.09400</td>\n",
       "      <td>1.09420</td>\n",
       "      <td>1.091405</td>\n",
       "      <td>1.083710</td>\n",
       "    </tr>\n",
       "    <tr>\n",
       "      <th>4</th>\n",
       "      <td>2023-06-16T01:00:00.000000000Z</td>\n",
       "      <td>1.09422</td>\n",
       "      <td>1.09484</td>\n",
       "      <td>1.09400</td>\n",
       "      <td>1.09434</td>\n",
       "      <td>1.092004</td>\n",
       "      <td>1.083926</td>\n",
       "    </tr>\n",
       "  </tbody>\n",
       "</table>\n",
       "</div>"
      ],
      "text/plain": [
       "                             time    mid_o    mid_h    mid_l    mid_c  \\\n",
       "0  2023-06-15T21:00:00.000000000Z  1.09444  1.09456  1.09422  1.09430   \n",
       "1  2023-06-15T22:00:00.000000000Z  1.09439  1.09496  1.09439  1.09491   \n",
       "2  2023-06-15T23:00:00.000000000Z  1.09494  1.09514  1.09452  1.09455   \n",
       "3  2023-06-16T00:00:00.000000000Z  1.09456  1.09508  1.09400  1.09420   \n",
       "4  2023-06-16T01:00:00.000000000Z  1.09422  1.09484  1.09400  1.09434   \n",
       "\n",
       "      MA_16     MA_64  \n",
       "0  1.089117  1.083028  \n",
       "1  1.089982  1.083272  \n",
       "2  1.090723  1.083500  \n",
       "3  1.091405  1.083710  \n",
       "4  1.092004  1.083926  "
      ]
     },
     "execution_count": 6,
     "metadata": {},
     "output_type": "execute_result"
    }
   ],
   "source": [
    "df_ma.head()"
   ]
  },
  {
   "cell_type": "code",
   "execution_count": 7,
   "metadata": {},
   "outputs": [],
   "source": [
    "def is_trade(row):\n",
    "    if row.DIFF >= 0 and row.DIFF_PREV < 0:\n",
    "        return True\n",
    "    if row.DIFF <= 0 and row.DIFF_PREV > 0:\n",
    "        return True\n",
    "    return False"
   ]
  },
  {
   "cell_type": "code",
   "execution_count": 8,
   "metadata": {},
   "outputs": [],
   "source": [
    "df_ma['DIFF'] = df_ma.MA_16 - df_ma.MA_64\n",
    "df_ma['DIFF_PREV'] = df_ma.DIFF.shift(1)\n",
    "df_ma['IS_TRADE'] = df_ma.apply(is_trade, axis=1)\n",
    "df_trades = df_ma[df_ma.IS_TRADE==True].copy()"
   ]
  },
  {
   "cell_type": "code",
   "execution_count": 9,
   "metadata": {},
   "outputs": [
    {
     "data": {
      "text/html": [
       "<div>\n",
       "<style scoped>\n",
       "    .dataframe tbody tr th:only-of-type {\n",
       "        vertical-align: middle;\n",
       "    }\n",
       "\n",
       "    .dataframe tbody tr th {\n",
       "        vertical-align: top;\n",
       "    }\n",
       "\n",
       "    .dataframe thead th {\n",
       "        text-align: right;\n",
       "    }\n",
       "</style>\n",
       "<table border=\"1\" class=\"dataframe\">\n",
       "  <thead>\n",
       "    <tr style=\"text-align: right;\">\n",
       "      <th></th>\n",
       "      <th>time</th>\n",
       "      <th>mid_o</th>\n",
       "      <th>mid_h</th>\n",
       "      <th>mid_l</th>\n",
       "      <th>mid_c</th>\n",
       "      <th>MA_16</th>\n",
       "      <th>MA_64</th>\n",
       "      <th>DIFF</th>\n",
       "      <th>DIFF_PREV</th>\n",
       "      <th>IS_TRADE</th>\n",
       "    </tr>\n",
       "  </thead>\n",
       "  <tbody>\n",
       "    <tr>\n",
       "      <th>48</th>\n",
       "      <td>2023-06-19T21:00:00.000000000Z</td>\n",
       "      <td>1.09226</td>\n",
       "      <td>1.09248</td>\n",
       "      <td>1.09206</td>\n",
       "      <td>1.09229</td>\n",
       "      <td>1.092157</td>\n",
       "      <td>1.092384</td>\n",
       "      <td>-0.000227</td>\n",
       "      <td>0.000044</td>\n",
       "      <td>True</td>\n",
       "    </tr>\n",
       "    <tr>\n",
       "      <th>91</th>\n",
       "      <td>2023-06-21T16:00:00.000000000Z</td>\n",
       "      <td>1.09506</td>\n",
       "      <td>1.09738</td>\n",
       "      <td>1.09497</td>\n",
       "      <td>1.09706</td>\n",
       "      <td>1.092537</td>\n",
       "      <td>1.092304</td>\n",
       "      <td>0.000234</td>\n",
       "      <td>-0.000055</td>\n",
       "      <td>True</td>\n",
       "    </tr>\n",
       "    <tr>\n",
       "      <th>128</th>\n",
       "      <td>2023-06-23T05:00:00.000000000Z</td>\n",
       "      <td>1.09331</td>\n",
       "      <td>1.09341</td>\n",
       "      <td>1.09273</td>\n",
       "      <td>1.09326</td>\n",
       "      <td>1.095028</td>\n",
       "      <td>1.095062</td>\n",
       "      <td>-0.000035</td>\n",
       "      <td>0.000294</td>\n",
       "      <td>True</td>\n",
       "    </tr>\n",
       "    <tr>\n",
       "      <th>177</th>\n",
       "      <td>2023-06-27T06:00:00.000000000Z</td>\n",
       "      <td>1.09176</td>\n",
       "      <td>1.09336</td>\n",
       "      <td>1.09162</td>\n",
       "      <td>1.09311</td>\n",
       "      <td>1.091456</td>\n",
       "      <td>1.091286</td>\n",
       "      <td>0.000170</td>\n",
       "      <td>-0.000018</td>\n",
       "      <td>True</td>\n",
       "    </tr>\n",
       "    <tr>\n",
       "      <th>215</th>\n",
       "      <td>2023-06-28T20:00:00.000000000Z</td>\n",
       "      <td>1.09161</td>\n",
       "      <td>1.09170</td>\n",
       "      <td>1.09113</td>\n",
       "      <td>1.09128</td>\n",
       "      <td>1.093011</td>\n",
       "      <td>1.093067</td>\n",
       "      <td>-0.000056</td>\n",
       "      <td>0.000184</td>\n",
       "      <td>True</td>\n",
       "    </tr>\n",
       "  </tbody>\n",
       "</table>\n",
       "</div>"
      ],
      "text/plain": [
       "                               time    mid_o    mid_h    mid_l    mid_c  \\\n",
       "48   2023-06-19T21:00:00.000000000Z  1.09226  1.09248  1.09206  1.09229   \n",
       "91   2023-06-21T16:00:00.000000000Z  1.09506  1.09738  1.09497  1.09706   \n",
       "128  2023-06-23T05:00:00.000000000Z  1.09331  1.09341  1.09273  1.09326   \n",
       "177  2023-06-27T06:00:00.000000000Z  1.09176  1.09336  1.09162  1.09311   \n",
       "215  2023-06-28T20:00:00.000000000Z  1.09161  1.09170  1.09113  1.09128   \n",
       "\n",
       "        MA_16     MA_64      DIFF  DIFF_PREV  IS_TRADE  \n",
       "48   1.092157  1.092384 -0.000227   0.000044      True  \n",
       "91   1.092537  1.092304  0.000234  -0.000055      True  \n",
       "128  1.095028  1.095062 -0.000035   0.000294      True  \n",
       "177  1.091456  1.091286  0.000170  -0.000018      True  \n",
       "215  1.093011  1.093067 -0.000056   0.000184      True  "
      ]
     },
     "execution_count": 9,
     "metadata": {},
     "output_type": "execute_result"
    }
   ],
   "source": [
    "df_trades.head()"
   ]
  },
  {
   "cell_type": "code",
   "execution_count": 10,
   "metadata": {},
   "outputs": [],
   "source": [
    "df_plot = df_ma.iloc[0:24].copy()"
   ]
  },
  {
   "cell_type": "code",
   "execution_count": 11,
   "metadata": {},
   "outputs": [
    {
     "data": {
      "text/plain": [
       "(24, 10)"
      ]
     },
     "execution_count": 11,
     "metadata": {},
     "output_type": "execute_result"
    }
   ],
   "source": [
    "df_plot.shape"
   ]
  },
  {
   "cell_type": "code",
   "execution_count": 12,
   "metadata": {},
   "outputs": [
    {
     "data": {
      "application/vnd.plotly.v1+json": {
       "config": {
        "plotlyServerURL": "https://plot.ly"
       },
       "data": [
        {
         "close": [
          1.0943,
          1.09491,
          1.09455,
          1.0942,
          1.09434,
          1.09364,
          1.09382,
          1.09388,
          1.09398,
          1.09472,
          1.09428,
          1.09505,
          1.09494,
          1.09444,
          1.09604,
          1.0951,
          1.09534,
          1.09253,
          1.09242,
          1.09339,
          1.09394,
          1.09446,
          1.09352,
          1.09416
         ],
         "decreasing": {
          "fillcolor": "#CC2E3C",
          "line": {
           "color": "#FF3A4C"
          }
         },
         "high": [
          1.09456,
          1.09496,
          1.09514,
          1.09508,
          1.09484,
          1.09458,
          1.09424,
          1.09431,
          1.09452,
          1.09625,
          1.09522,
          1.09536,
          1.09513,
          1.09499,
          1.0966,
          1.09708,
          1.09584,
          1.09672,
          1.0932,
          1.0934,
          1.09398,
          1.09456,
          1.09444,
          1.09425
         ],
         "increasing": {
          "fillcolor": "#24A06B",
          "line": {
           "color": "#2EC886"
          }
         },
         "line": {
          "width": 1
         },
         "low": [
          1.09422,
          1.09439,
          1.09452,
          1.094,
          1.094,
          1.09356,
          1.09364,
          1.09366,
          1.09376,
          1.09393,
          1.09339,
          1.09382,
          1.09398,
          1.0943,
          1.09468,
          1.09475,
          1.09424,
          1.09178,
          1.09216,
          1.09242,
          1.09322,
          1.09374,
          1.09347,
          1.09348
         ],
         "opacity": 1,
         "open": [
          1.09444,
          1.09439,
          1.09494,
          1.09456,
          1.09422,
          1.09437,
          1.09364,
          1.09384,
          1.09388,
          1.09399,
          1.09472,
          1.09424,
          1.09505,
          1.0949,
          1.09478,
          1.09602,
          1.0951,
          1.09578,
          1.09252,
          1.09242,
          1.0934,
          1.09392,
          1.09444,
          1.09354
         ],
         "type": "candlestick",
         "x": [
          "2023-06-15T21:00:00.000000000Z",
          "2023-06-15T22:00:00.000000000Z",
          "2023-06-15T23:00:00.000000000Z",
          "2023-06-16T00:00:00.000000000Z",
          "2023-06-16T01:00:00.000000000Z",
          "2023-06-16T02:00:00.000000000Z",
          "2023-06-16T03:00:00.000000000Z",
          "2023-06-16T04:00:00.000000000Z",
          "2023-06-16T05:00:00.000000000Z",
          "2023-06-16T06:00:00.000000000Z",
          "2023-06-16T07:00:00.000000000Z",
          "2023-06-16T08:00:00.000000000Z",
          "2023-06-16T09:00:00.000000000Z",
          "2023-06-16T10:00:00.000000000Z",
          "2023-06-16T11:00:00.000000000Z",
          "2023-06-16T12:00:00.000000000Z",
          "2023-06-16T13:00:00.000000000Z",
          "2023-06-16T14:00:00.000000000Z",
          "2023-06-16T15:00:00.000000000Z",
          "2023-06-16T16:00:00.000000000Z",
          "2023-06-16T17:00:00.000000000Z",
          "2023-06-16T18:00:00.000000000Z",
          "2023-06-16T19:00:00.000000000Z",
          "2023-06-16T20:00:00.000000000Z"
         ]
        },
        {
         "line": {
          "shape": "spline",
          "width": 2
         },
         "name": "MA_16",
         "type": "scatter",
         "x": [
          "2023-06-15T21:00:00.000000000Z",
          "2023-06-15T22:00:00.000000000Z",
          "2023-06-15T23:00:00.000000000Z",
          "2023-06-16T00:00:00.000000000Z",
          "2023-06-16T01:00:00.000000000Z",
          "2023-06-16T02:00:00.000000000Z",
          "2023-06-16T03:00:00.000000000Z",
          "2023-06-16T04:00:00.000000000Z",
          "2023-06-16T05:00:00.000000000Z",
          "2023-06-16T06:00:00.000000000Z",
          "2023-06-16T07:00:00.000000000Z",
          "2023-06-16T08:00:00.000000000Z",
          "2023-06-16T09:00:00.000000000Z",
          "2023-06-16T10:00:00.000000000Z",
          "2023-06-16T11:00:00.000000000Z",
          "2023-06-16T12:00:00.000000000Z",
          "2023-06-16T13:00:00.000000000Z",
          "2023-06-16T14:00:00.000000000Z",
          "2023-06-16T15:00:00.000000000Z",
          "2023-06-16T16:00:00.000000000Z",
          "2023-06-16T17:00:00.000000000Z",
          "2023-06-16T18:00:00.000000000Z",
          "2023-06-16T19:00:00.000000000Z",
          "2023-06-16T20:00:00.000000000Z"
         ],
         "y": [
          1.089116875,
          1.0899824999999999,
          1.0907225,
          1.091405,
          1.09200375,
          1.092591875,
          1.093343125,
          1.09380875,
          1.094063125,
          1.0942918750000001,
          1.094354375,
          1.09439625,
          1.09443625,
          1.0943987499999999,
          1.0944775,
          1.094511875,
          1.094576875,
          1.094428125,
          1.094295,
          1.094244375,
          1.094219375,
          1.094270625,
          1.0942518749999999,
          1.0942693749999999
         ]
        },
        {
         "line": {
          "shape": "spline",
          "width": 2
         },
         "name": "MA_64",
         "type": "scatter",
         "x": [
          "2023-06-15T21:00:00.000000000Z",
          "2023-06-15T22:00:00.000000000Z",
          "2023-06-15T23:00:00.000000000Z",
          "2023-06-16T00:00:00.000000000Z",
          "2023-06-16T01:00:00.000000000Z",
          "2023-06-16T02:00:00.000000000Z",
          "2023-06-16T03:00:00.000000000Z",
          "2023-06-16T04:00:00.000000000Z",
          "2023-06-16T05:00:00.000000000Z",
          "2023-06-16T06:00:00.000000000Z",
          "2023-06-16T07:00:00.000000000Z",
          "2023-06-16T08:00:00.000000000Z",
          "2023-06-16T09:00:00.000000000Z",
          "2023-06-16T10:00:00.000000000Z",
          "2023-06-16T11:00:00.000000000Z",
          "2023-06-16T12:00:00.000000000Z",
          "2023-06-16T13:00:00.000000000Z",
          "2023-06-16T14:00:00.000000000Z",
          "2023-06-16T15:00:00.000000000Z",
          "2023-06-16T16:00:00.000000000Z",
          "2023-06-16T17:00:00.000000000Z",
          "2023-06-16T18:00:00.000000000Z",
          "2023-06-16T19:00:00.000000000Z",
          "2023-06-16T20:00:00.000000000Z"
         ],
         "y": [
          1.083028125,
          1.08327234375,
          1.08350015625,
          1.0837104687499999,
          1.083925625,
          1.08414078125,
          1.08436578125,
          1.0845604687500001,
          1.08478828125,
          1.08501515625,
          1.08525203125,
          1.0854834375,
          1.0857340625,
          1.085975,
          1.0862384375,
          1.08648484375,
          1.08673984375,
          1.08694859375,
          1.08715890625,
          1.0873834375,
          1.08761078125,
          1.087843125,
          1.08807,
          1.0883071874999999
         ]
        }
       ],
       "layout": {
        "font": {
         "color": "#e1e1e1",
         "size": 10
        },
        "height": 400,
        "margin": {
         "b": 10,
         "l": 10,
         "r": 10,
         "t": 10
        },
        "paper_bgcolor": "#1e1e1e",
        "plot_bgcolor": "#1e1e1e",
        "template": {
         "data": {
          "bar": [
           {
            "error_x": {
             "color": "#2a3f5f"
            },
            "error_y": {
             "color": "#2a3f5f"
            },
            "marker": {
             "line": {
              "color": "#E5ECF6",
              "width": 0.5
             },
             "pattern": {
              "fillmode": "overlay",
              "size": 10,
              "solidity": 0.2
             }
            },
            "type": "bar"
           }
          ],
          "barpolar": [
           {
            "marker": {
             "line": {
              "color": "#E5ECF6",
              "width": 0.5
             },
             "pattern": {
              "fillmode": "overlay",
              "size": 10,
              "solidity": 0.2
             }
            },
            "type": "barpolar"
           }
          ],
          "carpet": [
           {
            "aaxis": {
             "endlinecolor": "#2a3f5f",
             "gridcolor": "white",
             "linecolor": "white",
             "minorgridcolor": "white",
             "startlinecolor": "#2a3f5f"
            },
            "baxis": {
             "endlinecolor": "#2a3f5f",
             "gridcolor": "white",
             "linecolor": "white",
             "minorgridcolor": "white",
             "startlinecolor": "#2a3f5f"
            },
            "type": "carpet"
           }
          ],
          "choropleth": [
           {
            "colorbar": {
             "outlinewidth": 0,
             "ticks": ""
            },
            "type": "choropleth"
           }
          ],
          "contour": [
           {
            "colorbar": {
             "outlinewidth": 0,
             "ticks": ""
            },
            "colorscale": [
             [
              0,
              "#0d0887"
             ],
             [
              0.1111111111111111,
              "#46039f"
             ],
             [
              0.2222222222222222,
              "#7201a8"
             ],
             [
              0.3333333333333333,
              "#9c179e"
             ],
             [
              0.4444444444444444,
              "#bd3786"
             ],
             [
              0.5555555555555556,
              "#d8576b"
             ],
             [
              0.6666666666666666,
              "#ed7953"
             ],
             [
              0.7777777777777778,
              "#fb9f3a"
             ],
             [
              0.8888888888888888,
              "#fdca26"
             ],
             [
              1,
              "#f0f921"
             ]
            ],
            "type": "contour"
           }
          ],
          "contourcarpet": [
           {
            "colorbar": {
             "outlinewidth": 0,
             "ticks": ""
            },
            "type": "contourcarpet"
           }
          ],
          "heatmap": [
           {
            "colorbar": {
             "outlinewidth": 0,
             "ticks": ""
            },
            "colorscale": [
             [
              0,
              "#0d0887"
             ],
             [
              0.1111111111111111,
              "#46039f"
             ],
             [
              0.2222222222222222,
              "#7201a8"
             ],
             [
              0.3333333333333333,
              "#9c179e"
             ],
             [
              0.4444444444444444,
              "#bd3786"
             ],
             [
              0.5555555555555556,
              "#d8576b"
             ],
             [
              0.6666666666666666,
              "#ed7953"
             ],
             [
              0.7777777777777778,
              "#fb9f3a"
             ],
             [
              0.8888888888888888,
              "#fdca26"
             ],
             [
              1,
              "#f0f921"
             ]
            ],
            "type": "heatmap"
           }
          ],
          "heatmapgl": [
           {
            "colorbar": {
             "outlinewidth": 0,
             "ticks": ""
            },
            "colorscale": [
             [
              0,
              "#0d0887"
             ],
             [
              0.1111111111111111,
              "#46039f"
             ],
             [
              0.2222222222222222,
              "#7201a8"
             ],
             [
              0.3333333333333333,
              "#9c179e"
             ],
             [
              0.4444444444444444,
              "#bd3786"
             ],
             [
              0.5555555555555556,
              "#d8576b"
             ],
             [
              0.6666666666666666,
              "#ed7953"
             ],
             [
              0.7777777777777778,
              "#fb9f3a"
             ],
             [
              0.8888888888888888,
              "#fdca26"
             ],
             [
              1,
              "#f0f921"
             ]
            ],
            "type": "heatmapgl"
           }
          ],
          "histogram": [
           {
            "marker": {
             "pattern": {
              "fillmode": "overlay",
              "size": 10,
              "solidity": 0.2
             }
            },
            "type": "histogram"
           }
          ],
          "histogram2d": [
           {
            "colorbar": {
             "outlinewidth": 0,
             "ticks": ""
            },
            "colorscale": [
             [
              0,
              "#0d0887"
             ],
             [
              0.1111111111111111,
              "#46039f"
             ],
             [
              0.2222222222222222,
              "#7201a8"
             ],
             [
              0.3333333333333333,
              "#9c179e"
             ],
             [
              0.4444444444444444,
              "#bd3786"
             ],
             [
              0.5555555555555556,
              "#d8576b"
             ],
             [
              0.6666666666666666,
              "#ed7953"
             ],
             [
              0.7777777777777778,
              "#fb9f3a"
             ],
             [
              0.8888888888888888,
              "#fdca26"
             ],
             [
              1,
              "#f0f921"
             ]
            ],
            "type": "histogram2d"
           }
          ],
          "histogram2dcontour": [
           {
            "colorbar": {
             "outlinewidth": 0,
             "ticks": ""
            },
            "colorscale": [
             [
              0,
              "#0d0887"
             ],
             [
              0.1111111111111111,
              "#46039f"
             ],
             [
              0.2222222222222222,
              "#7201a8"
             ],
             [
              0.3333333333333333,
              "#9c179e"
             ],
             [
              0.4444444444444444,
              "#bd3786"
             ],
             [
              0.5555555555555556,
              "#d8576b"
             ],
             [
              0.6666666666666666,
              "#ed7953"
             ],
             [
              0.7777777777777778,
              "#fb9f3a"
             ],
             [
              0.8888888888888888,
              "#fdca26"
             ],
             [
              1,
              "#f0f921"
             ]
            ],
            "type": "histogram2dcontour"
           }
          ],
          "mesh3d": [
           {
            "colorbar": {
             "outlinewidth": 0,
             "ticks": ""
            },
            "type": "mesh3d"
           }
          ],
          "parcoords": [
           {
            "line": {
             "colorbar": {
              "outlinewidth": 0,
              "ticks": ""
             }
            },
            "type": "parcoords"
           }
          ],
          "pie": [
           {
            "automargin": true,
            "type": "pie"
           }
          ],
          "scatter": [
           {
            "fillpattern": {
             "fillmode": "overlay",
             "size": 10,
             "solidity": 0.2
            },
            "type": "scatter"
           }
          ],
          "scatter3d": [
           {
            "line": {
             "colorbar": {
              "outlinewidth": 0,
              "ticks": ""
             }
            },
            "marker": {
             "colorbar": {
              "outlinewidth": 0,
              "ticks": ""
             }
            },
            "type": "scatter3d"
           }
          ],
          "scattercarpet": [
           {
            "marker": {
             "colorbar": {
              "outlinewidth": 0,
              "ticks": ""
             }
            },
            "type": "scattercarpet"
           }
          ],
          "scattergeo": [
           {
            "marker": {
             "colorbar": {
              "outlinewidth": 0,
              "ticks": ""
             }
            },
            "type": "scattergeo"
           }
          ],
          "scattergl": [
           {
            "marker": {
             "colorbar": {
              "outlinewidth": 0,
              "ticks": ""
             }
            },
            "type": "scattergl"
           }
          ],
          "scattermapbox": [
           {
            "marker": {
             "colorbar": {
              "outlinewidth": 0,
              "ticks": ""
             }
            },
            "type": "scattermapbox"
           }
          ],
          "scatterpolar": [
           {
            "marker": {
             "colorbar": {
              "outlinewidth": 0,
              "ticks": ""
             }
            },
            "type": "scatterpolar"
           }
          ],
          "scatterpolargl": [
           {
            "marker": {
             "colorbar": {
              "outlinewidth": 0,
              "ticks": ""
             }
            },
            "type": "scatterpolargl"
           }
          ],
          "scatterternary": [
           {
            "marker": {
             "colorbar": {
              "outlinewidth": 0,
              "ticks": ""
             }
            },
            "type": "scatterternary"
           }
          ],
          "surface": [
           {
            "colorbar": {
             "outlinewidth": 0,
             "ticks": ""
            },
            "colorscale": [
             [
              0,
              "#0d0887"
             ],
             [
              0.1111111111111111,
              "#46039f"
             ],
             [
              0.2222222222222222,
              "#7201a8"
             ],
             [
              0.3333333333333333,
              "#9c179e"
             ],
             [
              0.4444444444444444,
              "#bd3786"
             ],
             [
              0.5555555555555556,
              "#d8576b"
             ],
             [
              0.6666666666666666,
              "#ed7953"
             ],
             [
              0.7777777777777778,
              "#fb9f3a"
             ],
             [
              0.8888888888888888,
              "#fdca26"
             ],
             [
              1,
              "#f0f921"
             ]
            ],
            "type": "surface"
           }
          ],
          "table": [
           {
            "cells": {
             "fill": {
              "color": "#EBF0F8"
             },
             "line": {
              "color": "white"
             }
            },
            "header": {
             "fill": {
              "color": "#C8D4E3"
             },
             "line": {
              "color": "white"
             }
            },
            "type": "table"
           }
          ]
         },
         "layout": {
          "annotationdefaults": {
           "arrowcolor": "#2a3f5f",
           "arrowhead": 0,
           "arrowwidth": 1
          },
          "autotypenumbers": "strict",
          "coloraxis": {
           "colorbar": {
            "outlinewidth": 0,
            "ticks": ""
           }
          },
          "colorscale": {
           "diverging": [
            [
             0,
             "#8e0152"
            ],
            [
             0.1,
             "#c51b7d"
            ],
            [
             0.2,
             "#de77ae"
            ],
            [
             0.3,
             "#f1b6da"
            ],
            [
             0.4,
             "#fde0ef"
            ],
            [
             0.5,
             "#f7f7f7"
            ],
            [
             0.6,
             "#e6f5d0"
            ],
            [
             0.7,
             "#b8e186"
            ],
            [
             0.8,
             "#7fbc41"
            ],
            [
             0.9,
             "#4d9221"
            ],
            [
             1,
             "#276419"
            ]
           ],
           "sequential": [
            [
             0,
             "#0d0887"
            ],
            [
             0.1111111111111111,
             "#46039f"
            ],
            [
             0.2222222222222222,
             "#7201a8"
            ],
            [
             0.3333333333333333,
             "#9c179e"
            ],
            [
             0.4444444444444444,
             "#bd3786"
            ],
            [
             0.5555555555555556,
             "#d8576b"
            ],
            [
             0.6666666666666666,
             "#ed7953"
            ],
            [
             0.7777777777777778,
             "#fb9f3a"
            ],
            [
             0.8888888888888888,
             "#fdca26"
            ],
            [
             1,
             "#f0f921"
            ]
           ],
           "sequentialminus": [
            [
             0,
             "#0d0887"
            ],
            [
             0.1111111111111111,
             "#46039f"
            ],
            [
             0.2222222222222222,
             "#7201a8"
            ],
            [
             0.3333333333333333,
             "#9c179e"
            ],
            [
             0.4444444444444444,
             "#bd3786"
            ],
            [
             0.5555555555555556,
             "#d8576b"
            ],
            [
             0.6666666666666666,
             "#ed7953"
            ],
            [
             0.7777777777777778,
             "#fb9f3a"
            ],
            [
             0.8888888888888888,
             "#fdca26"
            ],
            [
             1,
             "#f0f921"
            ]
           ]
          },
          "colorway": [
           "#636efa",
           "#EF553B",
           "#00cc96",
           "#ab63fa",
           "#FFA15A",
           "#19d3f3",
           "#FF6692",
           "#B6E880",
           "#FF97FF",
           "#FECB52"
          ],
          "font": {
           "color": "#2a3f5f"
          },
          "geo": {
           "bgcolor": "white",
           "lakecolor": "white",
           "landcolor": "#E5ECF6",
           "showlakes": true,
           "showland": true,
           "subunitcolor": "white"
          },
          "hoverlabel": {
           "align": "left"
          },
          "hovermode": "closest",
          "mapbox": {
           "style": "light"
          },
          "paper_bgcolor": "white",
          "plot_bgcolor": "#E5ECF6",
          "polar": {
           "angularaxis": {
            "gridcolor": "white",
            "linecolor": "white",
            "ticks": ""
           },
           "bgcolor": "#E5ECF6",
           "radialaxis": {
            "gridcolor": "white",
            "linecolor": "white",
            "ticks": ""
           }
          },
          "scene": {
           "xaxis": {
            "backgroundcolor": "#E5ECF6",
            "gridcolor": "white",
            "gridwidth": 2,
            "linecolor": "white",
            "showbackground": true,
            "ticks": "",
            "zerolinecolor": "white"
           },
           "yaxis": {
            "backgroundcolor": "#E5ECF6",
            "gridcolor": "white",
            "gridwidth": 2,
            "linecolor": "white",
            "showbackground": true,
            "ticks": "",
            "zerolinecolor": "white"
           },
           "zaxis": {
            "backgroundcolor": "#E5ECF6",
            "gridcolor": "white",
            "gridwidth": 2,
            "linecolor": "white",
            "showbackground": true,
            "ticks": "",
            "zerolinecolor": "white"
           }
          },
          "shapedefaults": {
           "line": {
            "color": "#2a3f5f"
           }
          },
          "ternary": {
           "aaxis": {
            "gridcolor": "white",
            "linecolor": "white",
            "ticks": ""
           },
           "baxis": {
            "gridcolor": "white",
            "linecolor": "white",
            "ticks": ""
           },
           "bgcolor": "#E5ECF6",
           "caxis": {
            "gridcolor": "white",
            "linecolor": "white",
            "ticks": ""
           }
          },
          "title": {
           "x": 0.05
          },
          "xaxis": {
           "automargin": true,
           "gridcolor": "white",
           "linecolor": "white",
           "ticks": "",
           "title": {
            "standoff": 15
           },
           "zerolinecolor": "white",
           "zerolinewidth": 2
          },
          "yaxis": {
           "automargin": true,
           "gridcolor": "white",
           "linecolor": "white",
           "ticks": "",
           "title": {
            "standoff": 15
           },
           "zerolinecolor": "white",
           "zerolinewidth": 2
          }
         }
        },
        "width": 1000,
        "xaxis": {
         "fixedrange": true,
         "gridcolor": "#1f292f",
         "rangeslider": {
          "visible": false
         },
         "showgrid": true
        },
        "yaxis": {
         "gridcolor": "#1f292f",
         "showgrid": true
        }
       }
      }
     },
     "metadata": {},
     "output_type": "display_data"
    }
   ],
   "source": [
    "fig = go.Figure()\n",
    "fig.add_trace(go.Candlestick(\n",
    "    x=df_plot.time, open=df_plot.mid_o, high=df_plot.mid_h, low=df_plot.mid_l, close=df_plot.mid_c,\n",
    "    line=dict(width=1), opacity=1,\n",
    "    increasing_fillcolor='#24A06B',\n",
    "    decreasing_fillcolor=\"#CC2E3C\",\n",
    "    increasing_line_color='#2EC886',  \n",
    "    decreasing_line_color='#FF3A4C'\n",
    "))\n",
    "for ma in ma_list:  \n",
    "    col = f\"MA_{ma}\"\n",
    "    fig.add_trace(go.Scatter(x=df_plot.time, \n",
    "        y=df_plot[col],\n",
    "        line=dict(width=2),\n",
    "        line_shape='spline',\n",
    "        name=col\n",
    "        ))\n",
    "fig.update_layout(width=1000,height=400,\n",
    "    margin=dict(l=10,r=10,b=10,t=10),\n",
    "    font=dict(size=10,color=\"#e1e1e1\"),\n",
    "    paper_bgcolor=\"#1e1e1e\",\n",
    "    plot_bgcolor=\"#1e1e1e\")\n",
    "fig.update_xaxes(\n",
    "    gridcolor=\"#1f292f\",\n",
    "    showgrid=True,fixedrange=True,rangeslider=dict(visible=False)\n",
    ")\n",
    "fig.update_yaxes(\n",
    "    gridcolor=\"#1f292f\",\n",
    "    showgrid=True\n",
    ")\n",
    "fig.show()"
   ]
  },
  {
   "cell_type": "code",
   "execution_count": null,
   "metadata": {},
   "outputs": [],
   "source": []
  }
 ],
 "metadata": {
  "kernelspec": {
   "display_name": "Python 3",
   "language": "python",
   "name": "python3"
  },
  "language_info": {
   "codemirror_mode": {
    "name": "ipython",
    "version": 3
   },
   "file_extension": ".py",
   "mimetype": "text/x-python",
   "name": "python",
   "nbconvert_exporter": "python",
   "pygments_lexer": "ipython3",
   "version": "3.10.13"
  },
  "orig_nbformat": 2
 },
 "nbformat": 4,
 "nbformat_minor": 2
}
